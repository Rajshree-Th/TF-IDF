{
 "cells": [
  {
   "cell_type": "markdown",
   "metadata": {
    "id": "0vrZdUum2xPk"
   },
   "source": [
    "# **Implement TF-IDF from scratch**\n",
    "\n",
    "**(FAQ) Why bother about implementing a function to compute TF-IDF when it is already available in major libraries?**\n",
    "\n",
    "Ans.\n",
    "1. It helps you improve your coding proficiency.\n",
    "2. It helps you obtain a deeper understanding of the concepts and how it works internally. Knowledge of the internals will also help you debug problems better.\n",
    "3. A lot of product based startups and companies do focus on this in thier interviews to gauge your depth and clarity of understanding along with your programming skills. Hence, most top universities have implementations of some ML algorithms/concepts as mandatory assignments."
   ]
  },
  {
   "cell_type": "code",
   "execution_count": 3,
   "metadata": {
    "id": "ZxSRJ4KT3OMw"
   },
   "outputs": [],
   "source": [
    "# Corpus to be used for this assignment\n",
    "\n",
    "corpus = [\n",
    "     'this is the first document mostly',\n",
    "     'this document is the second document',\n",
    "     'and this is the third one',\n",
    "     'is this the first document here',\n",
    "]"
   ]
  },
  {
   "cell_type": "code",
   "execution_count": 7,
   "metadata": {
    "id": "aYoKXNsU3nhO"
   },
   "outputs": [],
   "source": [
    "# Please implement this fucntion and write your code wherever asked. Do NOT change the code snippets provided by us.\n",
    "def computeTFIDF (corpus):\n",
    "  \"\"\"\n",
    "  Given a list of sentences as \"corpus\", return the TF-IDF vectors for all the \n",
    "  sentences in the corpus as a numpy 2D matrix. \n",
    "  \n",
    "  Each row of the 2D matrix must correspond to one sentence \n",
    "  and each column corresponds to a word in the text corpus. \n",
    "  \n",
    "  \"\"\"\n",
    "  res = np.array(find_TFIDF(document))\n",
    "  return  (np.round(res,2))\n",
    "\n",
    "\n",
    "#importing math and numpy\n",
    "import math\n",
    "import numpy as np\n",
    "\n",
    "#total number of documents in the corpus\n",
    "N = len(corpus)\n",
    "\n",
    "#spliting the strings of word andforming a new list called document\n",
    "document = [] #initialising list\n",
    "for i in corpus:\n",
    "    document.append(i.split())\n",
    "\n",
    "#counting frequency of all words in each document of the given corpus\n",
    "def freq_of_word_in_docs(document):\n",
    "    count_temp = np.zeros((4,6))\n",
    "    count = 0\n",
    "    for i in range(0,4):\n",
    "        for j in range(0,6):\n",
    "            if document[i][j] in document[i]:\n",
    "                count = document[i].count(document[i][j])\n",
    "            count_temp[i][j] = count\n",
    "    return count_temp\n",
    "\n",
    "#finding TF of all the words in the given corpus\n",
    "def find_TF(docs):\n",
    "    tf_temp = np.zeros((4,6))\n",
    "    n = 6 #number words in each document\n",
    "    for i in range(0,4):\n",
    "        for j in range(0,6):\n",
    "            tf = (freq_of_word_in_docs(document) / n)\n",
    "        tf_temp = tf\n",
    "    return tf_temp\n",
    "\n",
    "#finding number of documents containing the word\n",
    "def num_docs(document):\n",
    "    numDocs_temp = np.zeros((4,6))\n",
    "    for i in range(0,4):\n",
    "        for j in range(0,6):\n",
    "            temp = document[i][j]\n",
    "            for k in range(0,4):\n",
    "                cnt = 0\n",
    "                if temp in document[k]:\n",
    "                    cnt = 1\n",
    "                numDocs_temp[i][j] += cnt\n",
    "    return numDocs_temp\n",
    "\n",
    "#finding IDF for all the words in the corpus\n",
    "def find_IDF(document):\n",
    "    idf = np.zeros((4,6))\n",
    "    temp = num_docs(document)\n",
    "    for i in range(0,4):\n",
    "        for j in range(0,6):\n",
    "            idf[i][j] = math.log(N / temp[i][j])\n",
    "    return idf\n",
    "\n",
    "#finding TF-IDF of all the words in the given corpus\n",
    "def find_TFIDF(document):\n",
    "    tfidf = np.zeros((4,6))\n",
    "    temp1 = find_TF(document)\n",
    "    temp2 = find_IDF(document)\n",
    "    \n",
    "    for i in range(0,4):\n",
    "        for j in range(0,6):\n",
    "            tfidf[i][j] = (temp1[i][j]) * (temp2[i][j])\n",
    "    return tfidf\n"
   ]
  },
  {
   "cell_type": "markdown",
   "metadata": {
    "id": "cZ_hmMn92bEe"
   },
   "source": [
    "# Grader Cell"
   ]
  },
  {
   "cell_type": "code",
   "execution_count": 8,
   "metadata": {
    "colab": {
     "base_uri": "https://localhost:8080/"
    },
    "id": "ZUYmXFjfu53i",
    "outputId": "df2b76ec-cf33-4048-e6b1-219401ca7ded"
   },
   "outputs": [
    {
     "name": "stdout",
     "output_type": "stream",
     "text": [
      "******** Success ********\n"
     ]
    }
   ],
   "source": [
    "import numpy as np\n",
    "\n",
    "# compute TF-IDF using the computeTFIDF() function\n",
    "X_custom = computeTFIDF(corpus)\n",
    "\n",
    "# Reference grader array - DO NOT MODIFY IT\n",
    "X_grader = np.array(\n",
    "    [[0, 0, 0, 0.12, 0.05, 0.23],\n",
    "     [0, 0.1, 0, 0, 0.23, 0.1],\n",
    "     [0.23, 0, 0, 0, 0.23, 0.23],\n",
    "     [0, 0, 0, 0.12, 0.05, 0.23]]\n",
    "     )\n",
    "\n",
    "# compare X_grader and X_custom\n",
    "comparison = ( X_grader == X_custom )\n",
    "isEqual = comparison.all()\n",
    "\n",
    "if isEqual:\n",
    "  print(\"******** Success ********\")\n",
    "else:\n",
    "  print(\"####### Failed #######\")\n",
    "  print(\"\\nX_grader = \\n\\n\", X_grader)\n",
    "  print(\"\\n\",\"*\"*50)\n",
    "  print(\"\\nX_custom = \\n\\n\", X_custom)\n"
   ]
  },
  {
   "cell_type": "code",
   "execution_count": null,
   "metadata": {
    "id": "8KnzKuIYeAEJ"
   },
   "outputs": [],
   "source": []
  }
 ],
 "metadata": {
  "colab": {
   "collapsed_sections": [],
   "name": "TF-IDF from Scratch Assignment.ipynb",
   "provenance": []
  },
  "kernelspec": {
   "display_name": "Python 3 (ipykernel)",
   "language": "python",
   "name": "python3"
  },
  "language_info": {
   "codemirror_mode": {
    "name": "ipython",
    "version": 3
   },
   "file_extension": ".py",
   "mimetype": "text/x-python",
   "name": "python",
   "nbconvert_exporter": "python",
   "pygments_lexer": "ipython3",
   "version": "3.9.7"
  }
 },
 "nbformat": 4,
 "nbformat_minor": 1
}
